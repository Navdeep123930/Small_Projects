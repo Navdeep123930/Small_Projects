{
 "cells": [
  {
   "cell_type": "code",
   "execution_count": 3,
   "id": "e7a27d8b",
   "metadata": {},
   "outputs": [
    {
     "name": "stdout",
     "output_type": "stream",
     "text": [
      "Total Health after Health Provide by Potion: 58\n"
     ]
    }
   ],
   "source": [
    "import random\n",
    "\n",
    "def Health_Potion(health,difficulty):\n",
    "    potion=random.randint(1,51);\n",
    "    new_health=health+(potion/difficulty)\n",
    "    return int(new_health)\n",
    "\n",
    "health=random.randint(1,51);\n",
    "difficulty=random.randint(1,4);\n",
    "print(\"Total Health after Health Provide by Potion: {}\".format(Health_Potion(health,difficulty)))"
   ]
  }
 ],
 "metadata": {
  "kernelspec": {
   "display_name": "Python 3",
   "language": "python",
   "name": "python3"
  },
  "language_info": {
   "codemirror_mode": {
    "name": "ipython",
    "version": 3
   },
   "file_extension": ".py",
   "mimetype": "text/x-python",
   "name": "python",
   "nbconvert_exporter": "python",
   "pygments_lexer": "ipython3",
   "version": "3.8.8"
  }
 },
 "nbformat": 4,
 "nbformat_minor": 5
}
